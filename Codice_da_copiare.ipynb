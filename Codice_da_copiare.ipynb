{
 "cells": [
  {
   "cell_type": "markdown",
   "id": "9b696741-836e-4429-a926-9de512a5d521",
   "metadata": {},
   "source": [
    "# ALZHEIMER"
   ]
  },
  {
   "cell_type": "markdown",
   "id": "05e3ac42-e741-4ab9-aba8-c126879f89fb",
   "metadata": {},
   "source": [
    "## Preparing the data set"
   ]
  },
  {
   "cell_type": "code",
   "execution_count": 1,
   "id": "911c56e5-4d78-46de-937b-3894a368d4d4",
   "metadata": {},
   "outputs": [],
   "source": [
    "%matplotlib inline\n",
    " \n",
    "import matplotlib.pyplot as plt\n",
    "import numpy as np\n",
    "import os\n",
    "import pprint\n",
    "pp = pprint.PrettyPrinter(indent=4)"
   ]
  },
  {
   "cell_type": "code",
   "execution_count": 2,
   "id": "c4683ef7-65df-4e6c-89e9-23b1de982d7a",
   "metadata": {},
   "outputs": [],
   "source": [
    "import joblib\n",
    "from skimage.io import imread\n",
    "from skimage.transform import resize\n",
    " \n",
    "def resize_all(src, pklname, include, width=150, height=None):\n",
    "    \"\"\"\n",
    "    load images from path, resize them and write them as arrays to a dictionary, \n",
    "    together with labels and metadata. The dictionary is written to a pickle file \n",
    "    named '{pklname}_{width}x{height}px.pkl'.\n",
    "     \n",
    "    Parameter\n",
    "    ---------\n",
    "    src: str\n",
    "        path to data\n",
    "    pklname: str\n",
    "        path to output file\n",
    "    width: int\n",
    "        target width of the image in pixels\n",
    "    include: set[str]\n",
    "        set containing str\n",
    "    \"\"\"\n",
    "     \n",
    "    height = height if height is not None else width\n",
    "     \n",
    "    data = dict()\n",
    "    data['description'] = 'resized ({0}x{1})animal images in rgb'.format(int(width), int(height))\n",
    "    data['label'] = []\n",
    "    data['filename'] = []\n",
    "    data['data'] = []   \n",
    "     \n",
    "    pklname = f\"{pklname}_{width}x{height}px.pkl\"\n",
    " \n",
    "    # read all images in PATH, resize and write to DESTINATION_PATH\n",
    "    for subdir in os.listdir(src):\n",
    "        if subdir in include:\n",
    "            print(subdir)\n",
    "            current_path = os.path.join(src, subdir)\n",
    " \n",
    "            for file in os.listdir(current_path):\n",
    "                if file[-3:] in {'jpg', 'png'}:\n",
    "                    im = imread(os.path.join(current_path, file))\n",
    "                    im = resize(im, (width, height)) #[:,:,::-1]\n",
    "                    data['label'].append(subdir[:-4])\n",
    "                    data['filename'].append(file)\n",
    "                    data['data'].append(im)\n",
    " \n",
    "        joblib.dump(data, pklname)"
   ]
  },
  {
   "cell_type": "code",
   "execution_count": null,
   "id": "e796944f-2e96-4084-bd3a-3759ea212007",
   "metadata": {},
   "outputs": [],
   "source": [
    "# modify to fit your system\n",
    "data_path = fr'{/Documents/GitHub/FDS_HW3/afhq/animalface/Image'}\n",
    "os.listdir(data_path)"
   ]
  },
  {
   "cell_type": "code",
   "execution_count": null,
   "id": "d303e1fe-4abb-4e5f-8eb3-079e9de4e033",
   "metadata": {},
   "outputs": [],
   "source": [
    "['ChickenHead',\n",
    " 'TigerHead',\n",
    " 'SheepHead',\n",
    " 'Natural',\n",
    " 'CowHead',\n",
    " 'BearHead',\n",
    " 'DogHead',\n",
    " 'ElephantHead',\n",
    " 'RabbitHead',\n",
    " 'EagleHead',\n",
    " 'WolfHead',\n",
    " 'DeerHead',\n",
    " 'CatHead',\n",
    " 'PigHead',\n",
    " 'MouseHead',\n",
    " 'DuckHead',\n",
    " 'MonkeyHead',\n",
    " 'HumanHead',\n",
    " 'PandaHead',\n",
    " 'LionHead',\n",
    " 'PigeonHead']"
   ]
  },
  {
   "cell_type": "code",
   "execution_count": null,
   "id": "3176b40c-d714-4884-afd4-d27e1844b627",
   "metadata": {},
   "outputs": [],
   "source": [
    "base_name = 'animal_faces'\n",
    "width = 80\n",
    " \n",
    "include = {'ChickenHead', 'BearHead', 'ElephantHead', \n",
    "           'EagleHead', 'DeerHead', 'MonkeyHead', 'PandaHead'}\n",
    " \n",
    "resize_all(src=data_path, pklname=base_name, width=width, include=include)"
   ]
  },
  {
   "cell_type": "code",
   "execution_count": null,
   "id": "0fcb72d4-7373-43f6-bded-fce0f19aabe8",
   "metadata": {},
   "outputs": [],
   "source": [
    "ChickenHead\n",
    "BearHead\n",
    "ElephantHead\n",
    "EagleHead\n",
    "DeerHead\n",
    "MonkeyHead\n",
    "PandaHead"
   ]
  },
  {
   "cell_type": "code",
   "execution_count": null,
   "id": "19b1a77f-a526-4f28-9a9c-fc3a0b1054ca",
   "metadata": {},
   "outputs": [],
   "source": [
    "from collections import Counter\n",
    " \n",
    "data = joblib.load(f'{base_name}_{width}x{width}px.pkl')\n",
    " \n",
    "print('number of samples: ', len(data['data']))\n",
    "print('keys: ', list(data.keys()))\n",
    "print('description: ', data['description'])\n",
    "print('image shape: ', data['data'][0].shape)\n",
    "print('labels:', np.unique(data['label']))\n",
    " \n",
    "Counter(data['label'])"
   ]
  },
  {
   "cell_type": "code",
   "execution_count": null,
   "id": "03d683ee-b652-44e3-b3fc-a61d4816a128",
   "metadata": {},
   "outputs": [],
   "source": [
    "Counter({'Chicken': 100,\n",
    "         'Bear': 101,\n",
    "         'Elephant': 100,\n",
    "         'Eagle': 97,\n",
    "         'Deer': 101,\n",
    "         'Monkey': 100,\n",
    "         'Panda': 117})"
   ]
  },
  {
   "cell_type": "code",
   "execution_count": null,
   "id": "1f0a2af1-4608-4f8f-af71-e0a5fe7029c4",
   "metadata": {},
   "outputs": [],
   "source": [
    "# use np.unique to get all unique values in the list of labels\n",
    "labels = np.unique(data['label'])\n",
    " \n",
    "# set up the matplotlib figure and axes, based on the number of labels\n",
    "fig, axes = plt.subplots(1, len(labels))\n",
    "fig.set_size_inches(15,4)\n",
    "fig.tight_layout()\n",
    " \n",
    "# make a plot for every label (equipment) type. The index method returns the \n",
    "# index of the first item corresponding to its search string, label in this case\n",
    "for ax, label in zip(axes, labels):\n",
    "    idx = data['label'].index(label)\n",
    "     \n",
    "    ax.imshow(data['data'][idx])\n",
    "    ax.axis('off')\n",
    "    ax.set_title(label)"
   ]
  },
  {
   "cell_type": "code",
   "execution_count": null,
   "id": "932729c7-fb98-4853-a6eb-d92343b401f7",
   "metadata": {},
   "outputs": [],
   "source": [
    "X = np.array(data['data'])\n",
    "y = np.array(data['label'])"
   ]
  },
  {
   "cell_type": "code",
   "execution_count": null,
   "id": "0c02d1d1-f29d-4779-9af8-39d00ac840a1",
   "metadata": {},
   "outputs": [],
   "source": [
    "from sklearn.model_selection import train_test_split\n",
    " \n",
    "X_train, X_test, y_train, y_test = train_test_split(\n",
    "    X, \n",
    "    y, \n",
    "    test_size=0.2, \n",
    "    shuffle=True,\n",
    "    random_state=42,\n",
    ")"
   ]
  },
  {
   "cell_type": "code",
   "execution_count": null,
   "id": "843def1e-ebe7-4e50-9ebe-2b94dc30610d",
   "metadata": {},
   "outputs": [],
   "source": [
    "def plot_bar(y, loc='left', relative=True):\n",
    "    width = 0.35\n",
    "    if loc == 'left':\n",
    "        n = -0.5\n",
    "    elif loc == 'right':\n",
    "        n = 0.5\n",
    "     \n",
    "    # calculate counts per type and sort, to ensure their order\n",
    "    unique, counts = np.unique(y, return_counts=True)\n",
    "    sorted_index = np.argsort(unique)\n",
    "    unique = unique[sorted_index]\n",
    "     \n",
    "    if relative:\n",
    "        # plot as a percentage\n",
    "        counts = 100*counts[sorted_index]/len(y)\n",
    "        ylabel_text = '% count'\n",
    "    else:\n",
    "        # plot counts\n",
    "        counts = counts[sorted_index]\n",
    "        ylabel_text = 'count'\n",
    "         \n",
    "    xtemp = np.arange(len(unique))\n",
    "     \n",
    "    plt.bar(xtemp + n*width, counts, align='center', alpha=.7, width=width)\n",
    "    plt.xticks(xtemp, unique, rotation=45)\n",
    "    plt.xlabel('equipment type')\n",
    "    plt.ylabel(ylabel_text)\n",
    " \n",
    "plt.suptitle('relative amount of photos per type')\n",
    "plot_bar(y_train, loc='left')\n",
    "plot_bar(y_test, loc='right')\n",
    "plt.legend([\n",
    "    'train ({0} photos)'.format(len(y_train)), \n",
    "    'test ({0} photos)'.format(len(y_test))\n",
    "]);"
   ]
  },
  {
   "cell_type": "markdown",
   "id": "f431003b-d302-40e6-9e03-d2fc7faa5851",
   "metadata": {},
   "source": [
    "## Processing"
   ]
  },
  {
   "cell_type": "code",
   "execution_count": null,
   "id": "420cf57c-0674-4b31-a6ad-ef7385fc5e3f",
   "metadata": {},
   "outputs": [],
   "source": [
    "from skimage.feature import hog\n",
    "from skimage.io import imread\n",
    "from skimage.transform import rescale\n",
    " \n",
    "dog = imread('Kim_at_14_weeks.jpg', as_gray=True)\n",
    "# https://en.wikipedia.org/wiki/German_Shepherd#/media/File:Kim_at_14_weeks.jpg\n",
    " \n",
    "# scale down the image to one third\n",
    "dog = rescale(dog, 1/3, mode='reflect')\n",
    "# calculate the hog and return a visual representation.\n",
    "dog_hog, dog_hog_img = hog(\n",
    "    dog, pixels_per_cell=(14,14), \n",
    "    cells_per_block=(2, 2), \n",
    "    orientations=9, \n",
    "    visualize=True, \n",
    "    block_norm='L2-Hys')\n",
    " \n",
    "fig, ax = plt.subplots(1,2)\n",
    "fig.set_size_inches(8,6)\n",
    "# remove ticks and their labels\n",
    "[a.tick_params(bottom=False, left=False, labelbottom=False, labelleft=False) \n",
    "    for a in ax]\n",
    " \n",
    "ax[0].imshow(dog, cmap='gray')\n",
    "ax[0].set_title('dog')\n",
    "ax[1].imshow(dog_hog_img, cmap='gray')\n",
    "ax[1].set_title('hog')\n",
    "plt.show()"
   ]
  },
  {
   "cell_type": "code",
   "execution_count": null,
   "id": "44dc8acc-3023-473c-8eb7-254c6c085ff9",
   "metadata": {},
   "outputs": [],
   "source": [
    "print('number of pixels: ', dog.shape[0] * dog.shape[1])\n",
    "print('number of hog features: ', dog_hog.shape[0])"
   ]
  },
  {
   "cell_type": "code",
   "execution_count": null,
   "id": "c3185a2a-4cda-4908-9ee9-03848b93226b",
   "metadata": {},
   "outputs": [],
   "source": [
    "number of pixels:  76384\n",
    "number of hog features:  12420"
   ]
  },
  {
   "cell_type": "markdown",
   "id": "1939dc98-7c01-4deb-a421-8b94d5acd3e0",
   "metadata": {},
   "source": [
    "## Transformers"
   ]
  },
  {
   "cell_type": "code",
   "execution_count": null,
   "id": "b2cbf3d3-bde0-42f4-b945-78841e9d07d0",
   "metadata": {},
   "outputs": [],
   "source": [
    "from sklearn.base import BaseEstimator, TransformerMixin\n",
    " \n",
    "class RGB2GrayTransformer(BaseEstimator, TransformerMixin):\n",
    "    \"\"\"\n",
    "    Convert an array of RGB images to grayscale\n",
    "    \"\"\"\n",
    " \n",
    "    def __init__(self):\n",
    "        pass\n",
    " \n",
    "    def fit(self, X, y=None):\n",
    "        \"\"\"returns itself\"\"\"\n",
    "        return self\n",
    " \n",
    "    def transform(self, X, y=None):\n",
    "        \"\"\"perform the transformation and return an array\"\"\"\n",
    "        return np.array([skimage.color.rgb2gray(img) for img in X])\n",
    "     \n",
    " \n",
    "class HogTransformer(BaseEstimator, TransformerMixin):\n",
    "    \"\"\"\n",
    "    Expects an array of 2d arrays (1 channel images)\n",
    "    Calculates hog features for each img\n",
    "    \"\"\"\n",
    " \n",
    "    def __init__(self, y=None, orientations=9,\n",
    "                 pixels_per_cell=(8, 8),\n",
    "                 cells_per_block=(3, 3), block_norm='L2-Hys'):\n",
    "        self.y = y\n",
    "        self.orientations = orientations\n",
    "        self.pixels_per_cell = pixels_per_cell\n",
    "        self.cells_per_block = cells_per_block\n",
    "        self.block_norm = block_norm\n",
    " \n",
    "    def fit(self, X, y=None):\n",
    "        return self\n",
    " \n",
    "    def transform(self, X, y=None):\n",
    " \n",
    "        def local_hog(X):\n",
    "            return hog(X,\n",
    "                       orientations=self.orientations,\n",
    "                       pixels_per_cell=self.pixels_per_cell,\n",
    "                       cells_per_block=self.cells_per_block,\n",
    "                       block_norm=self.block_norm)\n",
    " \n",
    "        try: # parallel\n",
    "            return np.array([local_hog(img) for img in X])\n",
    "        except:\n",
    "            return np.array([local_hog(img) for img in X])"
   ]
  },
  {
   "cell_type": "code",
   "execution_count": null,
   "id": "a6709aca-488f-46fb-87ab-06863b3f44ec",
   "metadata": {},
   "outputs": [],
   "source": [
    "from sklearn.linear_model import SGDClassifier\n",
    "from sklearn.model_selection import cross_val_predict\n",
    "from sklearn.preprocessing import StandardScaler, Normalizer\n",
    "import skimage\n",
    " \n",
    "# create an instance of each transformer\n",
    "grayify = RGB2GrayTransformer()\n",
    "hogify = HogTransformer(\n",
    "    pixels_per_cell=(14, 14), \n",
    "    cells_per_block=(2,2), \n",
    "    orientations=9, \n",
    "    block_norm='L2-Hys'\n",
    ")\n",
    "scalify = StandardScaler()\n",
    " \n",
    "# call fit_transform on each transform converting X_train step by step\n",
    "X_train_gray = grayify.fit_transform(X_train)\n",
    "X_train_hog = hogify.fit_transform(X_train_gray)\n",
    "X_train_prepared = scalify.fit_transform(X_train_hog)\n",
    " \n",
    "print(X_train_prepared.shape)"
   ]
  },
  {
   "cell_type": "markdown",
   "id": "7a7bb449-97ba-4636-86dd-9071bd73aa1f",
   "metadata": {},
   "source": [
    "## Training"
   ]
  },
  {
   "cell_type": "code",
   "execution_count": null,
   "id": "f1320e79-776e-40c9-b53b-25cb1cd1e242",
   "metadata": {},
   "outputs": [],
   "source": [
    "sgd_clf = SGDClassifier(random_state=42, max_iter=1000, tol=1e-3)\n",
    "sgd_clf.fit(X_train_prepared, y_train)"
   ]
  },
  {
   "cell_type": "code",
   "execution_count": null,
   "id": "34960c3d-84bf-41cf-981c-18df1bcda106",
   "metadata": {},
   "outputs": [],
   "source": [
    "SGDClassifier(random_state=42)"
   ]
  },
  {
   "cell_type": "markdown",
   "id": "0b9fb6ce-8260-4dd5-8320-dc4bb7d03799",
   "metadata": {},
   "source": [
    "## Testing"
   ]
  },
  {
   "cell_type": "code",
   "execution_count": null,
   "id": "a3c5fef3-131a-491c-98ae-21b3debd6d6b",
   "metadata": {},
   "outputs": [],
   "source": [
    "X_test_gray = grayify.transform(X_test)\n",
    "X_test_hog = hogify.transform(X_test_gray)\n",
    "X_test_prepared = scalify.transform(X_test_hog)"
   ]
  },
  {
   "cell_type": "code",
   "execution_count": null,
   "id": "632a1944-da80-4572-bcf7-493de5b6de68",
   "metadata": {},
   "outputs": [],
   "source": [
    "y_pred = sgd_clf.predict(X_test_prepared)\n",
    "print(np.array(y_pred == y_test)[:25])\n",
    "print('')\n",
    "print('Percentage correct: ', 100*np.sum(y_pred == y_test)/len(y_test))"
   ]
  },
  {
   "cell_type": "code",
   "execution_count": null,
   "id": "212f7281-caac-41dc-93d6-672432eead1c",
   "metadata": {},
   "outputs": [],
   "source": [
    "[ True  True  True  True  True False  True  True  True  True False  True\n",
    " False  True  True  True  True  True  True  True  True  True  True False\n",
    "  True]\n",
    " \n",
    "Percentage correct:  85.41666666666667"
   ]
  },
  {
   "cell_type": "markdown",
   "id": "8d9eabc2-0793-4c6a-8738-90faefee0bb0",
   "metadata": {},
   "source": [
    "## Confusion matrix"
   ]
  },
  {
   "cell_type": "code",
   "execution_count": null,
   "id": "ec79f4a0-a727-47b4-8b0d-667fed0cb0cb",
   "metadata": {},
   "outputs": [],
   "source": [
    "import pandas as pd"
   ]
  },
  {
   "cell_type": "code",
   "execution_count": null,
   "id": "289486c0-d04b-4dae-95c6-3b3c47f7b667",
   "metadata": {},
   "outputs": [],
   "source": [
    "labels = ['yes', 'yes', 'yes', 'yes', 'yes', 'yes', 'no',  'no', 'no', 'no']\n",
    "predictions = ['yes', 'yes', 'yes', 'yes', 'no',  'no',  'yes', 'no', 'no', 'no']\n",
    " \n",
    "# put the data in a dataframe for pretty printing\n",
    "df = pd.DataFrame(\n",
    "    np.c_[labels, predictions], \n",
    "    columns=['true_label', 'prediction']\n",
    ")\n",
    "df"
   ]
  },
  {
   "cell_type": "code",
   "execution_count": null,
   "id": "4cdf20bd-3d89-4743-82c5-a91c5c01b66a",
   "metadata": {},
   "outputs": [],
   "source": [
    "from sklearn.metrics import confusion_matrix\n",
    " \n",
    "label_names = ['yes', 'no']\n",
    "cmx = confusion_matrix(labels, predictions, labels=label_names)\n",
    "df = pd.DataFrame(cmx, columns=label_names, index=label_names)\n",
    "df.columns.name = 'prediction'\n",
    "df.index.name = 'label'\n",
    "df"
   ]
  },
  {
   "cell_type": "code",
   "execution_count": null,
   "id": "291c3fcb-3d3c-4537-b8fb-a02237d6823f",
   "metadata": {},
   "outputs": [],
   "source": [
    "plt.imshow(cmx)\n",
    "plt.xticks([])\n",
    "plt.yticks([])\n",
    "plt.colorbar();"
   ]
  },
  {
   "cell_type": "code",
   "execution_count": null,
   "id": "e23e3787-66d9-4d99-ac74-4db1a8962042",
   "metadata": {},
   "outputs": [],
   "source": [
    "cmx = confusion_matrix(y_test, y_pred)\n",
    "cmx"
   ]
  },
  {
   "cell_type": "code",
   "execution_count": null,
   "id": "58bf08d5-9a61-46c1-940a-9e3becc95868",
   "metadata": {},
   "outputs": [],
   "source": [
    "from mpl_toolkits.axes_grid1 import make_axes_locatable\n",
    " \n",
    "def plot_confusion_matrix(cmx, vmax1=None, vmax2=None, vmax3=None):\n",
    "    cmx_norm = 100*cmx / cmx.sum(axis=1, keepdims=True)\n",
    "    cmx_zero_diag = cmx_norm.copy()\n",
    " \n",
    "    np.fill_diagonal(cmx_zero_diag, 0)\n",
    " \n",
    "    fig, ax = plt.subplots(ncols=3)\n",
    "    fig.set_size_inches(12, 3)\n",
    "    [a.set_xticks(range(len(cmx)+1)) for a in ax]\n",
    "    [a.set_yticks(range(len(cmx)+1)) for a in ax]\n",
    "         \n",
    "    im1 = ax[0].imshow(cmx, vmax=vmax1)\n",
    "    ax[0].set_title('as is')\n",
    "    im2 = ax[1].imshow(cmx_norm, vmax=vmax2)\n",
    "    ax[1].set_title('%')\n",
    "    im3 = ax[2].imshow(cmx_zero_diag, vmax=vmax3)\n",
    "    ax[2].set_title('% and 0 diagonal')\n",
    " \n",
    "    dividers = [make_axes_locatable(a) for a in ax]\n",
    "    cax1, cax2, cax3 = [divider.append_axes(\"right\", size=\"5%\", pad=0.1) \n",
    "                        for divider in dividers]\n",
    " \n",
    "    fig.colorbar(im1, cax=cax1)\n",
    "    fig.colorbar(im2, cax=cax2)\n",
    "    fig.colorbar(im3, cax=cax3)\n",
    "    fig.tight_layout()\n",
    "     \n",
    "plot_confusion_matrix(cmx)\n",
    " \n",
    "# the types appear in this order\n",
    "print('\\n', sorted(np.unique(y_test)))"
   ]
  },
  {
   "cell_type": "code",
   "execution_count": null,
   "id": "72d8faa2-40e9-4bb9-a2c8-e228a72fdede",
   "metadata": {},
   "outputs": [],
   "source": []
  },
  {
   "cell_type": "code",
   "execution_count": null,
   "id": "964f3817-0f44-46fe-a5a8-111b83cf9816",
   "metadata": {},
   "outputs": [],
   "source": []
  }
 ],
 "metadata": {
  "kernelspec": {
   "display_name": "Python 3 (ipykernel)",
   "language": "python",
   "name": "python3"
  },
  "language_info": {
   "codemirror_mode": {
    "name": "ipython",
    "version": 3
   },
   "file_extension": ".py",
   "mimetype": "text/x-python",
   "name": "python",
   "nbconvert_exporter": "python",
   "pygments_lexer": "ipython3",
   "version": "3.9.12"
  }
 },
 "nbformat": 4,
 "nbformat_minor": 5
}
