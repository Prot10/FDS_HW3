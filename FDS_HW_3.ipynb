{
 "cells": [
  {
   "cell_type": "markdown",
   "id": "9b696741-836e-4429-a926-9de512a5d521",
   "metadata": {},
   "source": [
    "# ALZHEIMER"
   ]
  },
  {
   "cell_type": "code",
   "execution_count": null,
   "id": "911c56e5-4d78-46de-937b-3894a368d4d4",
   "metadata": {},
   "outputs": [],
   "source": []
  }
 ],
 "metadata": {
  "kernelspec": {
   "display_name": "Python 3 (ipykernel)",
   "language": "python",
   "name": "python3"
  },
  "language_info": {
   "codemirror_mode": {
    "name": "ipython",
    "version": 3
   },
   "file_extension": ".py",
   "mimetype": "text/x-python",
   "name": "python",
   "nbconvert_exporter": "python",
   "pygments_lexer": "ipython3",
   "version": "3.9.12"
  }
 },
 "nbformat": 4,
 "nbformat_minor": 5
}
